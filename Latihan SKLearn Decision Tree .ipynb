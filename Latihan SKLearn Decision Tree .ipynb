{
  "nbformat": 4,
  "nbformat_minor": 0,
  "metadata": {
    "colab": {
      "name": "Untitled1.ipynb",
      "provenance": [],
      "authorship_tag": "ABX9TyMw0yz/tckiIa8PuX990T8Z",
      "include_colab_link": true
    },
    "kernelspec": {
      "name": "python3",
      "display_name": "Python 3"
    }
  },
  "cells": [
    {
      "cell_type": "markdown",
      "metadata": {
        "id": "view-in-github",
        "colab_type": "text"
      },
      "source": [
        "<a href=\"https://colab.research.google.com/github/riandigitalent/dicoding-python/blob/master/Latihan%20SKLearn%20Decision%20Tree%20.ipynb\" target=\"_parent\"><img src=\"https://colab.research.google.com/assets/colab-badge.svg\" alt=\"Open In Colab\"/></a>"
      ]
    },
    {
      "cell_type": "code",
      "metadata": {
        "id": "cgParbUTMah5"
      },
      "source": [
        "import pandas as pd\n",
        "from sklearn.datasets import load_iris\n",
        "\n",
        "#membaca file iris.csv\n",
        "iris = pd.read_csv('Iris.csv')\n",
        "\n",
        "# melihat informasi dataset pada 5 baris pertama\n",
        "iris.head()\n"
      ],
      "execution_count": null,
      "outputs": []
    },
    {
      "cell_type": "code",
      "metadata": {
        "id": "-GTWas5OOE_8"
      },
      "source": [
        "import pandas as pd\n",
        "from sklearn.datasets import load_iris\n",
        "\n",
        "#membaca file iris.csv\n",
        "iris = pd.read_csv('Iris.csv')\n",
        "\n",
        "# menghilangkan kolom yang tidak penting\n",
        "iris.drop('Id',axis=1, inplace=True)\n",
        "# melihat informasi dataset pada 5 baris pertama\n",
        "iris.head()\n"
      ],
      "execution_count": null,
      "outputs": []
    },
    {
      "cell_type": "code",
      "metadata": {
        "id": "EV7q4UarOmGw"
      },
      "source": [
        "import pandas as pd\n",
        "from sklearn.datasets import load_iris\n",
        "from sklearn.tree import DecisionTreeClassifier\n",
        "\n",
        "#membaca file iris.csv\n",
        "iris = pd.read_csv('Iris.csv')\n",
        "# memisahkan atribut dan label\n",
        "X = iris[['SepalLengthCm', 'SepalWidthCm', 'PetalLengthCm', 'PetalWidthCm' ]]\n",
        "y = iris['Species']\n",
        "\n",
        "# menghilangkan kolom yang tidak penting\n",
        "iris.drop('Id',axis=1, inplace=True)\n",
        "\n",
        "# membuat model Decision Tree\n",
        "tree_model = DecisionTreeClassifier() \n",
        "tree_model.fit(X, y)\n",
        "\n",
        "# melihat informasi dataset pada 5 baris pertama\n",
        "iris.head()"
      ],
      "execution_count": null,
      "outputs": []
    },
    {
      "cell_type": "code",
      "metadata": {
        "id": "JmMSGlxmPTio",
        "outputId": "9817af22-5dfb-4038-85c7-d46dc58cb421",
        "colab": {
          "base_uri": "https://localhost:8080/"
        }
      },
      "source": [
        "import pandas as pd\n",
        "from sklearn.datasets import load_iris\n",
        "from sklearn.tree import DecisionTreeClassifier\n",
        "\n",
        "#membaca file iris.csv\n",
        "iris = pd.read_csv('Iris.csv')\n",
        "# memisahkan atribut dan label\n",
        "X = iris[['SepalLengthCm', 'SepalWidthCm', 'PetalLengthCm', 'PetalWidthCm' ]]\n",
        "y = iris['Species']\n",
        "\n",
        "# menghilangkan kolom yang tidak penting\n",
        "iris.drop('Id',axis=1, inplace=True)\n",
        "\n",
        "# membuat model Decision Tree\n",
        "tree_model = DecisionTreeClassifier() \n",
        "tree_model.fit(X, y)\n",
        "\n",
        "# prediksi model dengan tree_model.predict([[SepalLength, SepalWidth, PetalLength, PetalWidth]])\n",
        "tree_model.predict([[6.2, 3.4, 5.4, 2.3]])\n",
        "\n"
      ],
      "execution_count": 14,
      "outputs": [
        {
          "output_type": "execute_result",
          "data": {
            "text/plain": [
              "array(['Iris-virginica'], dtype=object)"
            ]
          },
          "metadata": {
            "tags": []
          },
          "execution_count": 14
        }
      ]
    },
    {
      "cell_type": "code",
      "metadata": {
        "id": "v3lhnmJ7PmNB"
      },
      "source": [
        "import pandas as pd\n",
        "from sklearn.datasets import load_iris\n",
        "from sklearn.tree import DecisionTreeClassifier\n",
        "from sklearn.tree import export_graphviz\n",
        "\n",
        "#membaca file iris.csv\n",
        "iris = pd.read_csv('Iris.csv')\n",
        "# memisahkan atribut dan label\n",
        "X = iris[['SepalLengthCm', 'SepalWidthCm', 'PetalLengthCm', 'PetalWidthCm' ]]\n",
        "y = iris['Species']\n",
        "\n",
        "# menghilangkan kolom yang tidak penting\n",
        "iris.drop('Id',axis=1, inplace=True)\n",
        "\n",
        "# membuat model Decision Tree\n",
        "tree_model = DecisionTreeClassifier() \n",
        "tree_model.fit(X, y)\n",
        "\n",
        "# prediksi model dengan tree_model.predict([[SepalLength, SepalWidth, PetalLength, PetalWidth]])\n",
        "tree_model.predict([[6.2, 3.4, 5.4, 2.3]])\n",
        "\n",
        "export_graphviz(\n",
        "    tree_model,\n",
        "    out_file = \"iris_tree.dot\",\n",
        "    feature_names = ['SepalLengthCm', 'SepalWidthCm', 'PetalLengthCm', 'PetalWidthCm'],\n",
        "    class_names = ['Iris-setosa', 'Iris-versicolor', 'Iris-virginica' ],\n",
        "    rounded= True,\n",
        "    filled =True\n",
        ")"
      ],
      "execution_count": 15,
      "outputs": []
    }
  ]
}